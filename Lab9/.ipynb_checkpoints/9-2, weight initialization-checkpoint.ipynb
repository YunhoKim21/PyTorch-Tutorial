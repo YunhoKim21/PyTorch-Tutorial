{
 "cells": [
  {
   "cell_type": "code",
   "execution_count": 1,
   "metadata": {},
   "outputs": [],
   "source": [
    "import time"
   ]
  },
  {
   "cell_type": "code",
   "execution_count": 2,
   "metadata": {},
   "outputs": [
    {
     "data": {
      "text/plain": [
       "'Fri Jul 16 17:43:54 2021'"
      ]
     },
     "execution_count": 2,
     "metadata": {},
     "output_type": "execute_result"
    }
   ],
   "source": [
    "time.strftime('%c', time.localtime(time.time()))"
   ]
  },
  {
   "cell_type": "code",
   "execution_count": 3,
   "metadata": {},
   "outputs": [],
   "source": [
    "#hinton : we initialized the weight in stupid way"
   ]
  },
  {
   "cell_type": "code",
   "execution_count": 4,
   "metadata": {},
   "outputs": [],
   "source": [
    "#initialization이 딥러닝의 성능에 영향을 미침"
   ]
  },
  {
   "cell_type": "code",
   "execution_count": 5,
   "metadata": {},
   "outputs": [],
   "source": [
    "#다 0 으로 하는 건 bad idea"
   ]
  },
  {
   "cell_type": "code",
   "execution_count": 6,
   "metadata": {},
   "outputs": [],
   "source": [
    "#restricted boltzmann machine : 다른 레이어 간에만 연결하고 한 레이어 사이에는 연결 없음"
   ]
  },
  {
   "cell_type": "code",
   "execution_count": 7,
   "metadata": {},
   "outputs": [],
   "source": [
    "#xavier,he initialization"
   ]
  },
  {
   "cell_type": "code",
   "execution_count": 8,
   "metadata": {},
   "outputs": [],
   "source": [
    "#xavier normal initialization : 평균이 0이고 표준편차가 특정 값인 정규분포의 난수로 초기화"
   ]
  },
  {
   "cell_type": "code",
   "execution_count": 9,
   "metadata": {},
   "outputs": [],
   "source": [
    "#xavier uniform initialization : 특정 범위의 난수로 초기화"
   ]
  },
  {
   "cell_type": "code",
   "execution_count": 10,
   "metadata": {},
   "outputs": [],
   "source": [
    "#he initialization : nout 항 제거한 xavier initialization"
   ]
  },
  {
   "cell_type": "code",
   "execution_count": 11,
   "metadata": {},
   "outputs": [],
   "source": [
    "import torch"
   ]
  },
  {
   "cell_type": "code",
   "execution_count": 12,
   "metadata": {},
   "outputs": [],
   "source": [
    "linear1 = torch.nn.Linear(784, 256, bias = True)"
   ]
  },
  {
   "cell_type": "code",
   "execution_count": 13,
   "metadata": {},
   "outputs": [],
   "source": [
    "linear2 = torch.nn.Linear(256, 256, bias = True)"
   ]
  },
  {
   "cell_type": "code",
   "execution_count": 14,
   "metadata": {},
   "outputs": [],
   "source": [
    "linear3 = torch.nn.Linear(256, 10, bias = True)"
   ]
  },
  {
   "cell_type": "code",
   "execution_count": 15,
   "metadata": {},
   "outputs": [],
   "source": [
    "relu = torch.nn.ReLU()"
   ]
  },
  {
   "cell_type": "code",
   "execution_count": 16,
   "metadata": {},
   "outputs": [],
   "source": [
    "#xavier initialization"
   ]
  },
  {
   "cell_type": "code",
   "execution_count": 17,
   "metadata": {},
   "outputs": [
    {
     "data": {
      "text/plain": [
       "Parameter containing:\n",
       "tensor([[ 0.0296, -0.0707,  0.0250,  ..., -0.0413,  0.0252,  0.0458],\n",
       "        [ 0.0057,  0.0596,  0.0266,  ...,  0.0745,  0.0079, -0.0675],\n",
       "        [ 0.0127,  0.0704, -0.0756,  ..., -0.0621,  0.0219,  0.0003],\n",
       "        ...,\n",
       "        [ 0.0251, -0.0113, -0.0322,  ...,  0.0108, -0.0318,  0.0095],\n",
       "        [ 0.0495, -0.0277,  0.0118,  ...,  0.0305, -0.0513, -0.0072],\n",
       "        [ 0.0292,  0.0727,  0.0316,  ...,  0.0515, -0.0537, -0.0711]],\n",
       "       requires_grad=True)"
      ]
     },
     "execution_count": 17,
     "metadata": {},
     "output_type": "execute_result"
    }
   ],
   "source": [
    "torch.nn.init.xavier_uniform_(linear1.weight)"
   ]
  },
  {
   "cell_type": "code",
   "execution_count": 18,
   "metadata": {},
   "outputs": [
    {
     "data": {
      "text/plain": [
       "Parameter containing:\n",
       "tensor([[-0.0373,  0.0442,  0.0094,  ...,  0.1062,  0.0907,  0.0955],\n",
       "        [ 0.0772, -0.0950,  0.0848,  ...,  0.0309,  0.1078,  0.0750],\n",
       "        [ 0.0608,  0.0940,  0.0405,  ..., -0.0595, -0.0373, -0.0231],\n",
       "        ...,\n",
       "        [ 0.0414, -0.0098, -0.0660,  ...,  0.0831, -0.0190, -0.0945],\n",
       "        [-0.0898, -0.0712, -0.0796,  ...,  0.0522,  0.0394, -0.0297],\n",
       "        [ 0.0731, -0.0256,  0.0922,  ...,  0.0991, -0.0074,  0.0877]],\n",
       "       requires_grad=True)"
      ]
     },
     "execution_count": 18,
     "metadata": {},
     "output_type": "execute_result"
    }
   ],
   "source": [
    "torch.nn.init.xavier_uniform_(linear2.weight)"
   ]
  },
  {
   "cell_type": "code",
   "execution_count": 19,
   "metadata": {},
   "outputs": [
    {
     "data": {
      "text/plain": [
       "Parameter containing:\n",
       "tensor([[-0.0683,  0.0346,  0.0769,  ...,  0.0523,  0.1065, -0.0301],\n",
       "        [-0.0661,  0.1033, -0.0611,  ..., -0.0604,  0.0769,  0.0101],\n",
       "        [-0.0699,  0.0216, -0.0186,  ...,  0.1095, -0.0733,  0.0490],\n",
       "        ...,\n",
       "        [ 0.0077,  0.1495,  0.0104,  ..., -0.0859,  0.1361, -0.0110],\n",
       "        [-0.1228,  0.0492,  0.1237,  ..., -0.1360, -0.1096, -0.0817],\n",
       "        [ 0.0154,  0.0036, -0.0490,  ..., -0.1395,  0.0007, -0.0305]],\n",
       "       requires_grad=True)"
      ]
     },
     "execution_count": 19,
     "metadata": {},
     "output_type": "execute_result"
    }
   ],
   "source": [
    "torch.nn.init.xavier_uniform_(linear3.weight)"
   ]
  },
  {
   "cell_type": "code",
   "execution_count": null,
   "metadata": {},
   "outputs": [],
   "source": []
  }
 ],
 "metadata": {
  "kernelspec": {
   "display_name": "Python 3",
   "language": "python",
   "name": "python3"
  },
  "language_info": {
   "codemirror_mode": {
    "name": "ipython",
    "version": 3
   },
   "file_extension": ".py",
   "mimetype": "text/x-python",
   "name": "python",
   "nbconvert_exporter": "python",
   "pygments_lexer": "ipython3",
   "version": "3.8.5"
  }
 },
 "nbformat": 4,
 "nbformat_minor": 4
}
