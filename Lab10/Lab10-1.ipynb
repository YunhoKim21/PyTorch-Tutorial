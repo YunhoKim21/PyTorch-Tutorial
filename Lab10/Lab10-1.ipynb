{
 "cells": [
  {
   "cell_type": "code",
   "execution_count": 1,
   "metadata": {},
   "outputs": [],
   "source": [
    "import time"
   ]
  },
  {
   "cell_type": "code",
   "execution_count": 2,
   "metadata": {},
   "outputs": [
    {
     "data": {
      "text/plain": [
       "'Mon Jul 19 18:15:35 2021'"
      ]
     },
     "execution_count": 2,
     "metadata": {},
     "output_type": "execute_result"
    }
   ],
   "source": [
    "time.strftime('%c', time.localtime(time.time()))"
   ]
  },
  {
   "cell_type": "code",
   "execution_count": 3,
   "metadata": {},
   "outputs": [],
   "source": [
    "#what is convolution?"
   ]
  },
  {
   "cell_type": "code",
   "execution_count": 4,
   "metadata": {},
   "outputs": [],
   "source": [
    "#이미지 위에서 stride 값 만큼 filter(kernal)을 이동시키면서 겹쳐지는 부분의 각 원소의 값을 곱해서 모두 더한 값을 출력으로 하는 연산"
   ]
  },
  {
   "cell_type": "code",
   "execution_count": 5,
   "metadata": {},
   "outputs": [],
   "source": [
    "#stride : filter가 한번에 얼마나 이동할 것인가(필터가 몇칸씩 움직일 것인가)"
   ]
  },
  {
   "cell_type": "code",
   "execution_count": 6,
   "metadata": {},
   "outputs": [],
   "source": [
    "#padding : 주위를 둘러쌈"
   ]
  },
  {
   "cell_type": "code",
   "execution_count": 7,
   "metadata": {},
   "outputs": [],
   "source": [
    "import torch"
   ]
  },
  {
   "cell_type": "code",
   "execution_count": 8,
   "metadata": {},
   "outputs": [
    {
     "data": {
      "text/plain": [
       "torch.nn.modules.conv.Conv2d"
      ]
     },
     "execution_count": 8,
     "metadata": {},
     "output_type": "execute_result"
    }
   ],
   "source": [
    "torch.nn.Conv2d"
   ]
  },
  {
   "cell_type": "code",
   "execution_count": 9,
   "metadata": {},
   "outputs": [],
   "source": [
    "#input size : 227x227, channel : 3(rgb), filter size = 11x11, stride = 4, padding = 0 -> output size : 55"
   ]
  },
  {
   "cell_type": "code",
   "execution_count": 10,
   "metadata": {},
   "outputs": [],
   "source": [
    "#output size : (input_size-filter_size+2*padding)/stride+1"
   ]
  },
  {
   "cell_type": "code",
   "execution_count": 11,
   "metadata": {},
   "outputs": [],
   "source": [
    "#소수점은 버림 처리"
   ]
  },
  {
   "cell_type": "code",
   "execution_count": 12,
   "metadata": {},
   "outputs": [],
   "source": [
    "import torch\n"
   ]
  },
  {
   "cell_type": "code",
   "execution_count": 13,
   "metadata": {},
   "outputs": [],
   "source": [
    "import torch.nn as nn"
   ]
  },
  {
   "cell_type": "code",
   "execution_count": 14,
   "metadata": {},
   "outputs": [],
   "source": [
    "conv = nn.Conv2d(1, 1, 11, stride = 4, padding = 0)"
   ]
  },
  {
   "cell_type": "code",
   "execution_count": 15,
   "metadata": {},
   "outputs": [
    {
     "data": {
      "text/plain": [
       "Conv2d(1, 1, kernel_size=(11, 11), stride=(4, 4))"
      ]
     },
     "execution_count": 15,
     "metadata": {},
     "output_type": "execute_result"
    }
   ],
   "source": [
    "conv"
   ]
  },
  {
   "cell_type": "code",
   "execution_count": 16,
   "metadata": {},
   "outputs": [],
   "source": [
    "inputs = torch.Tensor(1, 1, 227, 227)"
   ]
  },
  {
   "cell_type": "code",
   "execution_count": 17,
   "metadata": {},
   "outputs": [
    {
     "ename": "TypeError",
     "evalue": "'torch.Size' object is not callable",
     "output_type": "error",
     "traceback": [
      "\u001b[0;31m---------------------------------------------------------------------------\u001b[0m",
      "\u001b[0;31mTypeError\u001b[0m                                 Traceback (most recent call last)",
      "\u001b[0;32m<ipython-input-17-e3fbfad5c06c>\u001b[0m in \u001b[0;36m<module>\u001b[0;34m\u001b[0m\n\u001b[0;32m----> 1\u001b[0;31m \u001b[0minputs\u001b[0m\u001b[0;34m.\u001b[0m\u001b[0mshape\u001b[0m\u001b[0;34m(\u001b[0m\u001b[0;34m)\u001b[0m\u001b[0;34m\u001b[0m\u001b[0;34m\u001b[0m\u001b[0m\n\u001b[0m",
      "\u001b[0;31mTypeError\u001b[0m: 'torch.Size' object is not callable"
     ]
    }
   ],
   "source": [
    "inputs.shape()"
   ]
  },
  {
   "cell_type": "code",
   "execution_count": 18,
   "metadata": {},
   "outputs": [
    {
     "ename": "AttributeError",
     "evalue": "'function' object has no attribute 'shape'",
     "output_type": "error",
     "traceback": [
      "\u001b[0;31m---------------------------------------------------------------------------\u001b[0m",
      "\u001b[0;31mAttributeError\u001b[0m                            Traceback (most recent call last)",
      "\u001b[0;32m<ipython-input-18-a4d8fb082c03>\u001b[0m in \u001b[0;36m<module>\u001b[0;34m\u001b[0m\n\u001b[0;32m----> 1\u001b[0;31m \u001b[0minput\u001b[0m\u001b[0;34m.\u001b[0m\u001b[0mshape\u001b[0m\u001b[0;34m\u001b[0m\u001b[0;34m\u001b[0m\u001b[0m\n\u001b[0m",
      "\u001b[0;31mAttributeError\u001b[0m: 'function' object has no attribute 'shape'"
     ]
    }
   ],
   "source": [
    "input.shape"
   ]
  },
  {
   "cell_type": "code",
   "execution_count": 19,
   "metadata": {},
   "outputs": [
    {
     "data": {
      "text/plain": [
       "torch.Size([1, 1, 227, 227])"
      ]
     },
     "execution_count": 19,
     "metadata": {},
     "output_type": "execute_result"
    }
   ],
   "source": [
    "inputs.shape"
   ]
  },
  {
   "cell_type": "code",
   "execution_count": 20,
   "metadata": {},
   "outputs": [],
   "source": [
    "out = conv(inputs)"
   ]
  },
  {
   "cell_type": "code",
   "execution_count": 21,
   "metadata": {},
   "outputs": [
    {
     "data": {
      "text/plain": [
       "torch.Size([1, 1, 55, 55])"
      ]
     },
     "execution_count": 21,
     "metadata": {},
     "output_type": "execute_result"
    }
   ],
   "source": [
    "out.shape"
   ]
  },
  {
   "cell_type": "code",
   "execution_count": 22,
   "metadata": {},
   "outputs": [],
   "source": [
    "#neuron and convolution "
   ]
  },
  {
   "cell_type": "code",
   "execution_count": 23,
   "metadata": {},
   "outputs": [],
   "source": [
    "#convolution은 2차원 neural network같은 느낌"
   ]
  },
  {
   "cell_type": "code",
   "execution_count": 24,
   "metadata": {},
   "outputs": [],
   "source": [
    "#pooling : max pooling, average pooling"
   ]
  },
  {
   "cell_type": "code",
   "execution_count": 25,
   "metadata": {},
   "outputs": [],
   "source": [
    "#max pooling : 일정 구역에서 가장 높은 값만 가져옴"
   ]
  },
  {
   "cell_type": "code",
   "execution_count": 26,
   "metadata": {},
   "outputs": [],
   "source": [
    "#average pooling : 일정 구역에서 평균만 가져옴"
   ]
  },
  {
   "cell_type": "code",
   "execution_count": 27,
   "metadata": {},
   "outputs": [
    {
     "data": {
      "text/plain": [
       "torch.nn.modules.pooling.MaxPool2d"
      ]
     },
     "execution_count": 27,
     "metadata": {},
     "output_type": "execute_result"
    }
   ],
   "source": [
    "torch.nn.MaxPool2d"
   ]
  },
  {
   "cell_type": "code",
   "execution_count": 28,
   "metadata": {},
   "outputs": [
    {
     "ename": "AttributeError",
     "evalue": "module 'torch.nn' has no attribute 'AveragePool2d'",
     "output_type": "error",
     "traceback": [
      "\u001b[0;31m---------------------------------------------------------------------------\u001b[0m",
      "\u001b[0;31mAttributeError\u001b[0m                            Traceback (most recent call last)",
      "\u001b[0;32m<ipython-input-28-0ae87b47a6c1>\u001b[0m in \u001b[0;36m<module>\u001b[0;34m\u001b[0m\n\u001b[0;32m----> 1\u001b[0;31m \u001b[0mtorch\u001b[0m\u001b[0;34m.\u001b[0m\u001b[0mnn\u001b[0m\u001b[0;34m.\u001b[0m\u001b[0mAveragePool2d\u001b[0m\u001b[0;34m\u001b[0m\u001b[0;34m\u001b[0m\u001b[0m\n\u001b[0m",
      "\u001b[0;31mAttributeError\u001b[0m: module 'torch.nn' has no attribute 'AveragePool2d'"
     ]
    }
   ],
   "source": [
    "torch.nn.AveragePool2d"
   ]
  },
  {
   "cell_type": "code",
   "execution_count": 29,
   "metadata": {},
   "outputs": [
    {
     "ename": "AttributeError",
     "evalue": "module 'torch.nn' has no attribute 'MeanPool2d'",
     "output_type": "error",
     "traceback": [
      "\u001b[0;31m---------------------------------------------------------------------------\u001b[0m",
      "\u001b[0;31mAttributeError\u001b[0m                            Traceback (most recent call last)",
      "\u001b[0;32m<ipython-input-29-1b49d67f8b81>\u001b[0m in \u001b[0;36m<module>\u001b[0;34m\u001b[0m\n\u001b[0;32m----> 1\u001b[0;31m \u001b[0mtorch\u001b[0m\u001b[0;34m.\u001b[0m\u001b[0mnn\u001b[0m\u001b[0;34m.\u001b[0m\u001b[0mMeanPool2d\u001b[0m\u001b[0;34m\u001b[0m\u001b[0;34m\u001b[0m\u001b[0m\n\u001b[0m",
      "\u001b[0;31mAttributeError\u001b[0m: module 'torch.nn' has no attribute 'MeanPool2d'"
     ]
    }
   ],
   "source": [
    "torch.nn.MeanPool2d"
   ]
  },
  {
   "cell_type": "code",
   "execution_count": 30,
   "metadata": {},
   "outputs": [],
   "source": [
    "#cnn implementation"
   ]
  },
  {
   "cell_type": "code",
   "execution_count": 31,
   "metadata": {},
   "outputs": [],
   "source": [
    "inputs = torch.Tensor(1, 1, 28, 28)"
   ]
  },
  {
   "cell_type": "code",
   "execution_count": 32,
   "metadata": {},
   "outputs": [],
   "source": [
    "conv1 = nn.Conv2d(1, 5, 5)"
   ]
  },
  {
   "cell_type": "code",
   "execution_count": 33,
   "metadata": {},
   "outputs": [],
   "source": [
    "cpool = nn.MaxPool2d(2)"
   ]
  },
  {
   "cell_type": "code",
   "execution_count": 34,
   "metadata": {},
   "outputs": [
    {
     "ename": "NameError",
     "evalue": "name 'cpoll' is not defined",
     "output_type": "error",
     "traceback": [
      "\u001b[0;31m---------------------------------------------------------------------------\u001b[0m",
      "\u001b[0;31mNameError\u001b[0m                                 Traceback (most recent call last)",
      "\u001b[0;32m<ipython-input-34-1d962fa826d1>\u001b[0m in \u001b[0;36m<module>\u001b[0;34m\u001b[0m\n\u001b[0;32m----> 1\u001b[0;31m \u001b[0mpool\u001b[0m \u001b[0;34m=\u001b[0m \u001b[0mcpoll\u001b[0m\u001b[0;34m\u001b[0m\u001b[0;34m\u001b[0m\u001b[0m\n\u001b[0m",
      "\u001b[0;31mNameError\u001b[0m: name 'cpoll' is not defined"
     ]
    }
   ],
   "source": [
    "pool = cpoll"
   ]
  },
  {
   "cell_type": "code",
   "execution_count": 35,
   "metadata": {},
   "outputs": [],
   "source": [
    "pool = cpool"
   ]
  },
  {
   "cell_type": "code",
   "execution_count": 36,
   "metadata": {},
   "outputs": [],
   "source": [
    "out = conv1(inputs)"
   ]
  },
  {
   "cell_type": "code",
   "execution_count": 37,
   "metadata": {},
   "outputs": [],
   "source": [
    "out2 = pool(out)"
   ]
  },
  {
   "cell_type": "code",
   "execution_count": 38,
   "metadata": {},
   "outputs": [
    {
     "data": {
      "text/plain": [
       "tensor([[[[        nan,         nan,         nan,         nan,         nan,\n",
       "                   nan,         nan,         nan,         nan,         nan,\n",
       "                   nan,         nan],\n",
       "          [        nan,         nan,         nan,         nan,         nan,\n",
       "                   nan,         nan,         nan,         nan,         nan,\n",
       "            7.1117e-02,         nan],\n",
       "          [ 3.0819e+13, -2.4562e+17,         nan,         nan,         nan,\n",
       "            5.9122e+17,         nan,         nan,         nan,  5.2808e+17,\n",
       "            1.8715e+18,         nan],\n",
       "          [        nan,         nan,         nan,         nan,  1.9590e+31,\n",
       "            1.2941e+31,         nan,         nan,         nan,  1.3489e+34,\n",
       "            1.6121e+32,         nan],\n",
       "          [        nan,         nan,         nan,         nan,  2.9714e+31,\n",
       "            4.9202e+31,  1.0591e+31,  2.3726e+34,  1.0612e+34,  1.0874e+34,\n",
       "            2.3547e+32,  2.5132e+32],\n",
       "          [        nan,         nan,         nan,         nan,  2.3779e+31,\n",
       "            1.2201e+31,  1.0090e+31,  1.2890e+34,  4.1142e+33,  1.9796e+34,\n",
       "            1.1087e+30, -5.2965e+31],\n",
       "          [ 1.5873e+37,  9.3594e+30,  1.6299e+34,  4.4912e+33, -2.6244e+31,\n",
       "            2.5235e+31,  3.6443e+28,  4.6829e+28, -3.0296e+33,  9.7921e+33,\n",
       "           -1.0459e+12,  3.5144e+34],\n",
       "          [ 1.5113e+37,  2.1995e+34,  1.8745e+34,  1.5501e+34,  3.8886e+30,\n",
       "            3.0163e+27,  1.5684e+12,  9.8724e+30,  8.3295e+30,  6.9962e+30,\n",
       "            1.7165e+17,  1.7165e+17],\n",
       "          [ 3.6054e+17,  3.6054e+17,  4.7004e+30,  4.6297e+30,  7.3308e+28,\n",
       "            3.6054e+17,  3.6054e+17,  3.6054e+17,  5.0962e+17,  3.9546e+17,\n",
       "            3.6387e+17,  3.6387e+17],\n",
       "          [ 3.6387e+17,  3.6386e+17,  3.6386e+17,  3.6386e+17,  3.6386e+17,\n",
       "            3.6386e+17,  3.6386e+17,  3.6386e+17,  2.0974e+17,  1.3820e+17,\n",
       "            2.0957e+17,  2.0106e+17],\n",
       "          [-2.1006e+16, -2.1006e+16, -2.1005e+16, -2.1005e+16, -2.1005e+16,\n",
       "           -2.1005e+16, -2.1005e+16, -2.1005e+16, -2.1005e+16, -2.1005e+16,\n",
       "            3.3552e+16, -6.3099e+15],\n",
       "          [-1.2336e+16, -2.0960e+16, -2.0960e+16, -2.0960e+16, -2.0960e+16,\n",
       "           -2.0960e+16, -2.0960e+16, -2.0960e+16, -2.0960e+16, -2.0960e+16,\n",
       "            1.1058e+17,  8.7659e+15]],\n",
       "\n",
       "         [[        nan,         nan,         nan,         nan,         nan,\n",
       "                   nan,         nan,         nan,         nan,         nan,\n",
       "                   nan,         nan],\n",
       "          [        nan,         nan,         nan,         nan,         nan,\n",
       "                   nan,         nan,         nan,         nan,         nan,\n",
       "            1.1718e+18,         nan],\n",
       "          [ 1.0057e+18,  1.8132e+18,         nan,         nan,         nan,\n",
       "            2.6834e+18,         nan,         nan,         nan,  3.1955e+17,\n",
       "            1.5063e+13,         nan],\n",
       "          [        nan,         nan,         nan,         nan,  1.3099e+31,\n",
       "            2.2097e+30,         nan,         nan,         nan,  2.3031e+33,\n",
       "            2.1994e+32,         nan],\n",
       "          [        nan,         nan,         nan,         nan,  1.1448e+31,\n",
       "            3.4688e+30,  1.0692e+31,  1.6180e+34,  1.4012e+34,  1.2448e+34,\n",
       "            1.0821e+32,  2.4561e+32],\n",
       "          [        nan,         nan,         nan,         nan,  3.1025e+31,\n",
       "            4.6437e+31,  7.7126e+30,  1.8875e+34,  6.3927e+33,  1.0998e+34,\n",
       "            1.7455e+32,  2.0731e+32],\n",
       "          [ 1.6017e+37,  4.2290e+31,  1.9662e+34,  2.0892e+34,  4.1270e+31,\n",
       "            2.5583e+31,  3.2182e+28,  1.1780e+34,  1.3472e+34,  7.4709e+33,\n",
       "            1.3594e+31,  1.2659e+34],\n",
       "          [ 1.1525e+37,  7.9082e+33,  1.9803e+34,  6.4912e+33,  6.7017e+28,\n",
       "            3.4261e+12,  1.4771e+12,  8.9111e+30,  4.5871e+30, -2.4304e+12,\n",
       "            4.1156e+16,  4.1155e+16],\n",
       "          [ 6.3324e+16,  6.3326e+16,  1.9836e+30,  2.5496e+30,  6.3327e+16,\n",
       "            6.3325e+16,  6.3324e+16,  6.3325e+16,  1.1680e+17,  1.0101e+17,\n",
       "            1.0101e+17,  1.0101e+17],\n",
       "          [ 1.0101e+17,  1.0101e+17,  1.0101e+17,  1.0101e+17,  1.0101e+17,\n",
       "            1.0101e+17,  1.0101e+17,  1.0101e+17,  8.8420e+16,  4.2837e+16,\n",
       "            1.1655e+16,  1.2349e+17],\n",
       "          [ 1.3067e+17,  4.2927e+16,  4.2926e+16,  4.2926e+16,  4.2926e+16,\n",
       "            4.2926e+16,  4.2926e+16,  4.2926e+16,  4.2926e+16,  4.2926e+16,\n",
       "            1.8184e+17,  5.3494e+16],\n",
       "          [ 4.2888e+16,  4.2887e+16,  4.2887e+16,  4.2887e+16,  4.2887e+16,\n",
       "            4.2887e+16,  4.2887e+16,  4.2887e+16,  4.2887e+16,  4.2887e+16,\n",
       "            4.2887e+16,  8.8500e+16]],\n",
       "\n",
       "         [[        nan,         nan,         nan,         nan,         nan,\n",
       "                   nan,         nan,         nan,         nan,         nan,\n",
       "                   nan,         nan],\n",
       "          [        nan,         nan,         nan,         nan,         nan,\n",
       "                   nan,         nan,         nan,         nan,         nan,\n",
       "            3.8351e+13,         nan],\n",
       "          [ 3.8351e+13,  1.5403e+18,         nan,         nan,         nan,\n",
       "            1.3939e+18,         nan,         nan,         nan,  3.5564e+17,\n",
       "            5.4429e+17,         nan],\n",
       "          [        nan,         nan,         nan,         nan,  9.8913e+30,\n",
       "            3.9029e+30,         nan,         nan,         nan,  3.9103e+33,\n",
       "            1.0414e+31,         nan],\n",
       "          [        nan,         nan,         nan,         nan,  7.2922e+31,\n",
       "            3.7339e+31,  1.2555e+31,  2.9084e+27,  1.5276e+34,  1.4467e+34,\n",
       "            1.9376e+31,  1.0752e+34],\n",
       "          [        nan,         nan,         nan,         nan,  9.4148e+31,\n",
       "            4.1952e+31,  1.3957e+31,  7.0660e+33,  1.8897e+34,  2.1418e+34,\n",
       "            1.7314e+32,  2.8664e+34],\n",
       "          [ 1.8801e+37,  1.8033e+34,  2.0098e+34,  2.0013e+33,  5.5494e+31,\n",
       "            2.5185e+31,  1.0984e+28,  1.1435e+34,  8.7954e+33,  1.3550e+34,\n",
       "            9.5484e+30,  9.7329e+30],\n",
       "          [ 2.0901e+37, -1.3464e+11,  1.1353e+34,  5.4811e+33,  5.7553e+12,\n",
       "            5.6620e+28,  3.1615e+28, -1.3570e+30,  5.1462e+30,  2.4758e+30,\n",
       "            7.1094e+16,  7.1093e+16],\n",
       "          [ 1.6848e+17,  1.6848e+17,  1.6848e+17,  1.6847e+17,  1.3761e+30,\n",
       "            1.6848e+17,  1.6848e+17,  1.6847e+17,  2.8306e+17,  4.0704e+17,\n",
       "            4.0704e+17,  4.0704e+17],\n",
       "          [ 6.3448e+17,  6.3448e+17,  6.3448e+17,  6.3448e+17,  6.3448e+17,\n",
       "            6.3448e+17,  6.3448e+17,  6.3447e+17,  6.5558e+17,  7.5239e+17,\n",
       "            6.4706e+17,  7.6040e+17],\n",
       "          [ 7.5260e+17,  7.5260e+17,  7.5260e+17,  7.5260e+17,  7.5259e+17,\n",
       "            7.5259e+17,  7.5259e+17,  7.5259e+17,  7.5259e+17,  7.5259e+17,\n",
       "            6.6303e+17,  6.2854e+17],\n",
       "          [ 7.5281e+17,  7.5281e+17,  7.5281e+17,  7.5281e+17,  7.5281e+17,\n",
       "            7.5281e+17,  7.5280e+17,  7.5280e+17,  7.5280e+17,  7.5280e+17,\n",
       "            7.5280e+17,  7.5280e+17]],\n",
       "\n",
       "         [[        nan,         nan,         nan,         nan,         nan,\n",
       "                   nan,         nan,         nan,         nan,         nan,\n",
       "                   nan,         nan],\n",
       "          [        nan,         nan,         nan,         nan,         nan,\n",
       "                   nan,         nan,         nan,         nan,         nan,\n",
       "            2.2574e+13,         nan],\n",
       "          [ 2.2574e+13,  2.0126e+18,         nan,         nan,         nan,\n",
       "            2.4787e+18,         nan,         nan,         nan,  7.9015e+17,\n",
       "            1.4565e+13,         nan],\n",
       "          [        nan,         nan,         nan,         nan,  1.9375e+31,\n",
       "            1.6402e+30,         nan,         nan,         nan,  5.6588e+30,\n",
       "            1.0332e+32,         nan],\n",
       "          [        nan,         nan,         nan,         nan,  5.2370e+31,\n",
       "            1.8562e+31,  3.7270e+30, -6.8064e+26,  1.4186e+34,  2.3732e+33,\n",
       "            6.5311e+30,  2.2110e+32],\n",
       "          [        nan,         nan,         nan,         nan,  6.8998e+31,\n",
       "            3.9848e+31,  8.3207e+30,  9.1223e+33,  6.0203e+33,  1.0013e+34,\n",
       "            2.2585e+32,  2.8064e+34],\n",
       "          [ 5.5751e+36,  1.7592e+34,  1.1117e+34,  4.3513e+33,  2.9337e+31,\n",
       "            1.4871e+31,  3.7937e+28,  1.4955e+34,  1.4104e+34,  8.0780e+33,\n",
       "            1.0676e+31,  6.3072e+30],\n",
       "          [ 1.2464e+37, -1.4652e+12,  1.6115e+34,  9.0731e+33,  7.5150e+29,\n",
       "            9.3671e+28,  4.1309e+28, -6.9177e+30,  7.2780e+30,  4.0958e+30,\n",
       "            7.6050e+11,  3.3597e+12],\n",
       "          [ 1.0429e+17,  1.0429e+17,  1.0429e+17,  1.0372e+30,  2.2765e+30,\n",
       "            1.0429e+17,  1.0429e+17,  1.0429e+17, -1.8963e+16,  7.9340e+16,\n",
       "            1.0639e+17,  1.0639e+17],\n",
       "          [ 1.9382e+17,  1.0863e+17,  1.0863e+17,  1.0863e+17,  1.0863e+17,\n",
       "            1.0863e+17,  1.0863e+17,  1.0863e+17,  2.6071e+17,  2.3168e+17,\n",
       "            2.0738e+17,  1.1022e+17],\n",
       "          [ 1.4319e+17,  1.6806e+17,  1.6806e+17,  1.6806e+17,  1.6806e+17,\n",
       "            1.6806e+17,  1.6806e+17,  1.6806e+17,  1.6806e+17,  1.6805e+17,\n",
       "            2.9130e+17,  2.8111e+17],\n",
       "          [ 2.3158e+17,  1.6809e+17,  1.6809e+17,  1.6809e+17,  1.6809e+17,\n",
       "            1.6809e+17,  1.6809e+17,  1.6809e+17,  1.6809e+17,  1.6809e+17,\n",
       "            1.6809e+17,  1.9718e+17]],\n",
       "\n",
       "         [[        nan,         nan,         nan,         nan,         nan,\n",
       "                   nan,         nan,         nan,         nan,         nan,\n",
       "                   nan,         nan],\n",
       "          [        nan,         nan,         nan,         nan,         nan,\n",
       "                   nan,         nan,         nan,         nan,         nan,\n",
       "            1.6875e+18,         nan],\n",
       "          [ 1.8355e+18,  1.4615e+18,         nan,         nan,         nan,\n",
       "            2.1738e+18,         nan,         nan,         nan,  4.3731e+13,\n",
       "            1.4009e+18,         nan],\n",
       "          [        nan,         nan,         nan,         nan,  1.7234e+31,\n",
       "            1.9310e+31,         nan,         nan,         nan,  1.0087e+34,\n",
       "            1.7604e+32,         nan],\n",
       "          [        nan,         nan,         nan,         nan,  1.0811e+32,\n",
       "            4.2438e+31,  1.5715e+31,  2.1195e+34,  2.2837e+34,  1.4809e+34,\n",
       "            1.7827e+32,  1.6167e+32],\n",
       "          [        nan,         nan,         nan,         nan,  5.4309e+31,\n",
       "           -3.3164e+30,  1.4014e+31,  1.4330e+34,  1.9636e+34,  1.1058e+34,\n",
       "            6.1500e+31,  2.2050e+34],\n",
       "          [ 2.3545e+37,  1.3754e+34,  1.1412e+34,  1.5742e+34,  3.2096e+31,\n",
       "            4.0537e+31,  3.0628e+28,  3.6946e+33,  1.0850e+34,  1.3635e+34,\n",
       "            1.0957e+31,  9.1568e+33],\n",
       "          [ 2.1033e+37,  5.7066e+33,  5.9372e+33,  2.0972e+34,  5.2614e+30,\n",
       "            4.4218e+12,  1.0225e+28,  2.6807e+30,  2.8720e+30,  9.4660e+30,\n",
       "            3.5143e+17,  3.5143e+17],\n",
       "          [ 3.5143e+17,  3.5142e+17,  2.4254e+17,  1.3140e+30,  2.4254e+17,\n",
       "            3.5143e+17,  3.5143e+17,  3.5142e+17,  3.5182e+17,  4.5110e+17,\n",
       "            3.4063e+17,  3.4063e+17],\n",
       "          [ 3.4063e+17,  3.4062e+17,  3.4062e+17,  3.4062e+17,  3.4062e+17,\n",
       "            3.4062e+17,  3.4062e+17,  3.4062e+17,  3.0413e+17,  3.3344e+17,\n",
       "            4.7632e+17,  3.2117e+17],\n",
       "          [ 4.8993e+17,  3.7984e+17,  3.7984e+17,  3.7984e+17,  3.7984e+17,\n",
       "            3.7984e+17,  3.7984e+17,  3.7984e+17,  3.7984e+17,  3.7984e+17,\n",
       "            4.1993e+17,  3.4689e+17],\n",
       "          [ 5.2647e+17,  3.7986e+17,  3.7986e+17,  3.7986e+17,  3.7986e+17,\n",
       "            3.7985e+17,  3.7985e+17,  3.7985e+17,  3.7985e+17,  3.7985e+17,\n",
       "            3.7985e+17,  3.7985e+17]]]],\n",
       "       grad_fn=<MaxPool2DWithIndicesBackward>)"
      ]
     },
     "execution_count": 38,
     "metadata": {},
     "output_type": "execute_result"
    }
   ],
   "source": [
    "out2"
   ]
  },
  {
   "cell_type": "code",
   "execution_count": null,
   "metadata": {},
   "outputs": [],
   "source": [
    "#one more thing : "
   ]
  }
 ],
 "metadata": {
  "kernelspec": {
   "display_name": "Python 3",
   "language": "python",
   "name": "python3"
  },
  "language_info": {
   "codemirror_mode": {
    "name": "ipython",
    "version": 3
   },
   "file_extension": ".py",
   "mimetype": "text/x-python",
   "name": "python",
   "nbconvert_exporter": "python",
   "pygments_lexer": "ipython3",
   "version": "3.8.5"
  }
 },
 "nbformat": 4,
 "nbformat_minor": 4
}
