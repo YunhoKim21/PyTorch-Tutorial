{
 "cells": [
  {
   "cell_type": "code",
   "execution_count": 1,
   "metadata": {},
   "outputs": [],
   "source": [
    "import time"
   ]
  },
  {
   "cell_type": "code",
   "execution_count": 2,
   "metadata": {},
   "outputs": [],
   "source": [
    "import torch"
   ]
  },
  {
   "cell_type": "code",
   "execution_count": 3,
   "metadata": {},
   "outputs": [
    {
     "data": {
      "text/plain": [
       "'Mon Jul 12 09:41:03 2021'"
      ]
     },
     "execution_count": 3,
     "metadata": {},
     "output_type": "execute_result"
    }
   ],
   "source": [
    "time.strftime('%c', time.localtime(time.time()))"
   ]
  },
  {
   "cell_type": "code",
   "execution_count": 4,
   "metadata": {},
   "outputs": [],
   "source": [
    "import torch.nn as nn"
   ]
  },
  {
   "cell_type": "code",
   "execution_count": 5,
   "metadata": {},
   "outputs": [],
   "source": [
    "import torch.nn.functional as F"
   ]
  },
  {
   "cell_type": "code",
   "execution_count": 6,
   "metadata": {},
   "outputs": [],
   "source": [
    "import torch.optim as optim"
   ]
  },
  {
   "cell_type": "code",
   "execution_count": 7,
   "metadata": {},
   "outputs": [
    {
     "data": {
      "text/plain": [
       "<torch._C.Generator at 0x7feef1c10d70>"
      ]
     },
     "execution_count": 7,
     "metadata": {},
     "output_type": "execute_result"
    }
   ],
   "source": [
    "torch.manual_seed(1)"
   ]
  },
  {
   "cell_type": "code",
   "execution_count": 8,
   "metadata": {},
   "outputs": [],
   "source": [
    "#discrete probability distribution : 이산확률분포"
   ]
  },
  {
   "cell_type": "code",
   "execution_count": 9,
   "metadata": {},
   "outputs": [],
   "source": [
    "z = torch.FloatTensor([1, 2, 3])"
   ]
  },
  {
   "cell_type": "code",
   "execution_count": 10,
   "metadata": {},
   "outputs": [],
   "source": [
    "hypothesis = F.softmax(z, dim = 0)"
   ]
  },
  {
   "cell_type": "code",
   "execution_count": 11,
   "metadata": {},
   "outputs": [
    {
     "data": {
      "text/plain": [
       "tensor([0.0900, 0.2447, 0.6652])"
      ]
     },
     "execution_count": 11,
     "metadata": {},
     "output_type": "execute_result"
    }
   ],
   "source": [
    "hypothesis"
   ]
  },
  {
   "cell_type": "code",
   "execution_count": 12,
   "metadata": {},
   "outputs": [
    {
     "data": {
      "text/plain": [
       "tensor(1.)"
      ]
     },
     "execution_count": 12,
     "metadata": {},
     "output_type": "execute_result"
    }
   ],
   "source": [
    "hypothesis.sum()"
   ]
  },
  {
   "cell_type": "code",
   "execution_count": 13,
   "metadata": {},
   "outputs": [
    {
     "ename": "AttributeError",
     "evalue": "module 'torch.nn.functional' has no attribute 'max'",
     "output_type": "error",
     "traceback": [
      "\u001b[0;31m---------------------------------------------------------------------------\u001b[0m",
      "\u001b[0;31mAttributeError\u001b[0m                            Traceback (most recent call last)",
      "\u001b[0;32m<ipython-input-13-f8dc8dde1e44>\u001b[0m in \u001b[0;36m<module>\u001b[0;34m\u001b[0m\n\u001b[0;32m----> 1\u001b[0;31m \u001b[0mF\u001b[0m\u001b[0;34m.\u001b[0m\u001b[0mmax\u001b[0m\u001b[0;34m(\u001b[0m\u001b[0mz\u001b[0m\u001b[0;34m)\u001b[0m\u001b[0;34m\u001b[0m\u001b[0;34m\u001b[0m\u001b[0m\n\u001b[0m",
      "\u001b[0;31mAttributeError\u001b[0m: module 'torch.nn.functional' has no attribute 'max'"
     ]
    }
   ],
   "source": [
    "F.max(z)"
   ]
  },
  {
   "cell_type": "code",
   "execution_count": 14,
   "metadata": {},
   "outputs": [
    {
     "data": {
      "text/plain": [
       "tensor(3.)"
      ]
     },
     "execution_count": 14,
     "metadata": {},
     "output_type": "execute_result"
    }
   ],
   "source": [
    "z.max()"
   ]
  },
  {
   "cell_type": "code",
   "execution_count": 15,
   "metadata": {},
   "outputs": [
    {
     "data": {
      "text/plain": [
       "tensor(2)"
      ]
     },
     "execution_count": 15,
     "metadata": {},
     "output_type": "execute_result"
    }
   ],
   "source": [
    "z.argmax()"
   ]
  },
  {
   "cell_type": "code",
   "execution_count": 16,
   "metadata": {},
   "outputs": [
    {
     "data": {
      "text/plain": [
       "['BroadcastingList1',\n",
       " 'BroadcastingList2',\n",
       " 'BroadcastingList3',\n",
       " 'Callable',\n",
       " 'GRID_SAMPLE_INTERPOLATION_MODES',\n",
       " 'GRID_SAMPLE_PADDING_MODES',\n",
       " 'List',\n",
       " 'Optional',\n",
       " 'Tensor',\n",
       " 'Tuple',\n",
       " '_Reduction',\n",
       " '_VF',\n",
       " '__builtins__',\n",
       " '__cached__',\n",
       " '__doc__',\n",
       " '__file__',\n",
       " '__loader__',\n",
       " '__name__',\n",
       " '__package__',\n",
       " '__spec__',\n",
       " '_adaptive_max_pool1d',\n",
       " '_adaptive_max_pool2d',\n",
       " '_adaptive_max_pool3d',\n",
       " '_add_docstr',\n",
       " '_fractional_max_pool2d',\n",
       " '_fractional_max_pool3d',\n",
       " '_get_softmax_dim',\n",
       " '_in_projection',\n",
       " '_in_projection_packed',\n",
       " '_infer_size',\n",
       " '_list_with_default',\n",
       " '_max_pool1d',\n",
       " '_max_pool2d',\n",
       " '_max_pool3d',\n",
       " '_no_grad_embedding_renorm_',\n",
       " '_overload',\n",
       " '_pad',\n",
       " '_pad_circular',\n",
       " '_pair',\n",
       " '_scaled_dot_product_attention',\n",
       " '_single',\n",
       " '_threshold',\n",
       " '_triple',\n",
       " '_unpool_output_size',\n",
       " '_verify_batch_size',\n",
       " '_verify_spatial_size',\n",
       " 'adaptive_avg_pool1d',\n",
       " 'adaptive_avg_pool2d',\n",
       " 'adaptive_avg_pool3d',\n",
       " 'adaptive_max_pool1d',\n",
       " 'adaptive_max_pool1d_with_indices',\n",
       " 'adaptive_max_pool2d',\n",
       " 'adaptive_max_pool2d_with_indices',\n",
       " 'adaptive_max_pool3d',\n",
       " 'adaptive_max_pool3d_with_indices',\n",
       " 'affine_grid',\n",
       " 'alpha_dropout',\n",
       " 'assert_int_or_pair',\n",
       " 'avg_pool1d',\n",
       " 'avg_pool2d',\n",
       " 'avg_pool3d',\n",
       " 'batch_norm',\n",
       " 'bilinear',\n",
       " 'binary_cross_entropy',\n",
       " 'binary_cross_entropy_with_logits',\n",
       " 'boolean_dispatch',\n",
       " 'celu',\n",
       " 'celu_',\n",
       " 'channel_shuffle',\n",
       " 'conv1d',\n",
       " 'conv2d',\n",
       " 'conv3d',\n",
       " 'conv_tbc',\n",
       " 'conv_transpose1d',\n",
       " 'conv_transpose2d',\n",
       " 'conv_transpose3d',\n",
       " 'cosine_embedding_loss',\n",
       " 'cosine_similarity',\n",
       " 'cross_entropy',\n",
       " 'ctc_loss',\n",
       " 'dropout',\n",
       " 'dropout2d',\n",
       " 'dropout3d',\n",
       " 'elu',\n",
       " 'elu_',\n",
       " 'embedding',\n",
       " 'embedding_bag',\n",
       " 'feature_alpha_dropout',\n",
       " 'fold',\n",
       " 'fractional_max_pool2d',\n",
       " 'fractional_max_pool2d_with_indices',\n",
       " 'fractional_max_pool3d',\n",
       " 'fractional_max_pool3d_with_indices',\n",
       " 'gaussian_nll_loss',\n",
       " 'gelu',\n",
       " 'glu',\n",
       " 'grad',\n",
       " 'grid_sample',\n",
       " 'group_norm',\n",
       " 'gumbel_softmax',\n",
       " 'handle_torch_function',\n",
       " 'hardshrink',\n",
       " 'hardsigmoid',\n",
       " 'hardswish',\n",
       " 'hardtanh',\n",
       " 'hardtanh_',\n",
       " 'has_torch_function',\n",
       " 'has_torch_function_unary',\n",
       " 'has_torch_function_variadic',\n",
       " 'hinge_embedding_loss',\n",
       " 'huber_loss',\n",
       " 'instance_norm',\n",
       " 'interpolate',\n",
       " 'kl_div',\n",
       " 'l1_loss',\n",
       " 'layer_norm',\n",
       " 'leaky_relu',\n",
       " 'leaky_relu_',\n",
       " 'linear',\n",
       " 'local_response_norm',\n",
       " 'log_softmax',\n",
       " 'logsigmoid',\n",
       " 'lp_pool1d',\n",
       " 'lp_pool2d',\n",
       " 'margin_ranking_loss',\n",
       " 'math',\n",
       " 'max_pool1d',\n",
       " 'max_pool1d_with_indices',\n",
       " 'max_pool2d',\n",
       " 'max_pool2d_with_indices',\n",
       " 'max_pool3d',\n",
       " 'max_pool3d_with_indices',\n",
       " 'max_unpool1d',\n",
       " 'max_unpool2d',\n",
       " 'max_unpool3d',\n",
       " 'mish',\n",
       " 'mse_loss',\n",
       " 'multi_head_attention_forward',\n",
       " 'multi_margin_loss',\n",
       " 'multilabel_margin_loss',\n",
       " 'multilabel_soft_margin_loss',\n",
       " 'nll_loss',\n",
       " 'normalize',\n",
       " 'one_hot',\n",
       " 'pad',\n",
       " 'pairwise_distance',\n",
       " 'pdist',\n",
       " 'pixel_shuffle',\n",
       " 'pixel_unshuffle',\n",
       " 'poisson_nll_loss',\n",
       " 'prelu',\n",
       " 'relu',\n",
       " 'relu6',\n",
       " 'relu_',\n",
       " 'reproducibility_notes',\n",
       " 'rrelu',\n",
       " 'rrelu_',\n",
       " 'selu',\n",
       " 'selu_',\n",
       " 'sigmoid',\n",
       " 'silu',\n",
       " 'smooth_l1_loss',\n",
       " 'soft_margin_loss',\n",
       " 'softmax',\n",
       " 'softmin',\n",
       " 'softplus',\n",
       " 'softshrink',\n",
       " 'softsign',\n",
       " 'tanh',\n",
       " 'tanhshrink',\n",
       " 'tf32_notes',\n",
       " 'threshold',\n",
       " 'threshold_',\n",
       " 'torch',\n",
       " 'triplet_margin_loss',\n",
       " 'triplet_margin_with_distance_loss',\n",
       " 'unfold',\n",
       " 'upsample',\n",
       " 'upsample_bilinear',\n",
       " 'upsample_nearest',\n",
       " 'utils',\n",
       " 'warnings']"
      ]
     },
     "execution_count": 16,
     "metadata": {},
     "output_type": "execute_result"
    }
   ],
   "source": [
    "dir(F)"
   ]
  },
  {
   "cell_type": "code",
   "execution_count": 17,
   "metadata": {},
   "outputs": [
    {
     "name": "stderr",
     "output_type": "stream",
     "text": [
      "<ipython-input-17-8d032903090c>:1: UserWarning: Implicit dimension choice for softmin has been deprecated. Change the call to include dim=X as an argument.\n",
      "  F.softmin(z)\n"
     ]
    },
    {
     "data": {
      "text/plain": [
       "tensor([0.6652, 0.2447, 0.0900])"
      ]
     },
     "execution_count": 17,
     "metadata": {},
     "output_type": "execute_result"
    }
   ],
   "source": [
    "F.softmin(z)"
   ]
  },
  {
   "cell_type": "code",
   "execution_count": 18,
   "metadata": {},
   "outputs": [
    {
     "ename": "AttributeError",
     "evalue": "module 'torch.nn.functional' has no attribute 'sortmin'",
     "output_type": "error",
     "traceback": [
      "\u001b[0;31m---------------------------------------------------------------------------\u001b[0m",
      "\u001b[0;31mAttributeError\u001b[0m                            Traceback (most recent call last)",
      "\u001b[0;32m<ipython-input-18-aec007cc8e39>\u001b[0m in \u001b[0;36m<module>\u001b[0;34m\u001b[0m\n\u001b[0;32m----> 1\u001b[0;31m \u001b[0mF\u001b[0m\u001b[0;34m.\u001b[0m\u001b[0msortmin\u001b[0m\u001b[0;34m(\u001b[0m\u001b[0mz\u001b[0m\u001b[0;34m,\u001b[0m \u001b[0mdim\u001b[0m \u001b[0;34m=\u001b[0m \u001b[0;36m0\u001b[0m\u001b[0;34m)\u001b[0m\u001b[0;34m\u001b[0m\u001b[0;34m\u001b[0m\u001b[0m\n\u001b[0m",
      "\u001b[0;31mAttributeError\u001b[0m: module 'torch.nn.functional' has no attribute 'sortmin'"
     ]
    }
   ],
   "source": [
    "F.sortmin(z, dim = 0)"
   ]
  },
  {
   "cell_type": "code",
   "execution_count": 19,
   "metadata": {},
   "outputs": [
    {
     "data": {
      "text/plain": [
       "tensor([0.6652, 0.2447, 0.0900])"
      ]
     },
     "execution_count": 19,
     "metadata": {},
     "output_type": "execute_result"
    }
   ],
   "source": [
    "F.softmin(z, dim = 0)"
   ]
  },
  {
   "cell_type": "code",
   "execution_count": 20,
   "metadata": {},
   "outputs": [],
   "source": [
    "#Cross entropy : 두 확률 분포가 얼마나 다른지"
   ]
  },
  {
   "cell_type": "code",
   "execution_count": 21,
   "metadata": {},
   "outputs": [],
   "source": [
    "#비슷한지"
   ]
  },
  {
   "cell_type": "code",
   "execution_count": 22,
   "metadata": {},
   "outputs": [],
   "source": [
    "z = torch.rand(3, 5, requires_grad = True)"
   ]
  },
  {
   "cell_type": "code",
   "execution_count": 23,
   "metadata": {},
   "outputs": [
    {
     "data": {
      "text/plain": [
       "tensor([[0.7576, 0.2793, 0.4031, 0.7347, 0.0293],\n",
       "        [0.7999, 0.3971, 0.7544, 0.5695, 0.4388],\n",
       "        [0.6387, 0.5247, 0.6826, 0.3051, 0.4635]], requires_grad=True)"
      ]
     },
     "execution_count": 23,
     "metadata": {},
     "output_type": "execute_result"
    }
   ],
   "source": [
    "z"
   ]
  },
  {
   "cell_type": "code",
   "execution_count": 24,
   "metadata": {},
   "outputs": [],
   "source": [
    "hypothesis = F.softmax(z, dim = 1)"
   ]
  },
  {
   "cell_type": "code",
   "execution_count": 25,
   "metadata": {},
   "outputs": [
    {
     "data": {
      "text/plain": [
       "tensor([[0.2645, 0.1639, 0.1855, 0.2585, 0.1277],\n",
       "        [0.2430, 0.1624, 0.2322, 0.1930, 0.1694],\n",
       "        [0.2226, 0.1986, 0.2326, 0.1594, 0.1868]], grad_fn=<SoftmaxBackward>)"
      ]
     },
     "execution_count": 25,
     "metadata": {},
     "output_type": "execute_result"
    }
   ],
   "source": [
    "hypothesis"
   ]
  },
  {
   "cell_type": "code",
   "execution_count": 26,
   "metadata": {},
   "outputs": [],
   "source": [
    "y = torch.FloatTensor([0, 2, 1])"
   ]
  },
  {
   "cell_type": "code",
   "execution_count": 27,
   "metadata": {},
   "outputs": [],
   "source": [
    "#y가 정답이라고 하자"
   ]
  },
  {
   "cell_type": "code",
   "execution_count": 28,
   "metadata": {},
   "outputs": [
    {
     "data": {
      "text/plain": [
       "<function _VariableFunctionsClass.mean>"
      ]
     },
     "execution_count": 28,
     "metadata": {},
     "output_type": "execute_result"
    }
   ],
   "source": [
    "torch.mean"
   ]
  },
  {
   "cell_type": "code",
   "execution_count": 29,
   "metadata": {},
   "outputs": [
    {
     "data": {
      "text/plain": [
       "tensor(1.)"
      ]
     },
     "execution_count": 29,
     "metadata": {},
     "output_type": "execute_result"
    }
   ],
   "source": [
    "torch.mean(y)"
   ]
  },
  {
   "cell_type": "code",
   "execution_count": 30,
   "metadata": {},
   "outputs": [
    {
     "data": {
      "text/plain": [
       "<function _VariableFunctionsClass.log>"
      ]
     },
     "execution_count": 30,
     "metadata": {},
     "output_type": "execute_result"
    }
   ],
   "source": [
    "torch.log"
   ]
  },
  {
   "cell_type": "code",
   "execution_count": 31,
   "metadata": {},
   "outputs": [
    {
     "ename": "TypeError",
     "evalue": "log(): argument 'input' (position 1) must be Tensor, not int",
     "output_type": "error",
     "traceback": [
      "\u001b[0;31m---------------------------------------------------------------------------\u001b[0m",
      "\u001b[0;31mTypeError\u001b[0m                                 Traceback (most recent call last)",
      "\u001b[0;32m<ipython-input-31-806820693fda>\u001b[0m in \u001b[0;36m<module>\u001b[0;34m\u001b[0m\n\u001b[0;32m----> 1\u001b[0;31m \u001b[0mtorch\u001b[0m\u001b[0;34m.\u001b[0m\u001b[0mlog\u001b[0m\u001b[0;34m(\u001b[0m\u001b[0;36m1\u001b[0m\u001b[0;34m)\u001b[0m\u001b[0;34m\u001b[0m\u001b[0;34m\u001b[0m\u001b[0m\n\u001b[0m",
      "\u001b[0;31mTypeError\u001b[0m: log(): argument 'input' (position 1) must be Tensor, not int"
     ]
    }
   ],
   "source": [
    "torch.log(1)"
   ]
  },
  {
   "cell_type": "code",
   "execution_count": 32,
   "metadata": {},
   "outputs": [
    {
     "data": {
      "text/plain": [
       "tensor([0.0000, 0.6931, 2.3026])"
      ]
     },
     "execution_count": 32,
     "metadata": {},
     "output_type": "execute_result"
    }
   ],
   "source": [
    "torch.log(torch.FloatTensor([1, 2, 10]))"
   ]
  },
  {
   "cell_type": "code",
   "execution_count": 33,
   "metadata": {},
   "outputs": [],
   "source": [
    "#classes : 5\n",
    "#samples : 3"
   ]
  },
  {
   "cell_type": "code",
   "execution_count": 34,
   "metadata": {},
   "outputs": [],
   "source": [
    "y_one_hot = torch.zeros_like(hypothesis)"
   ]
  },
  {
   "cell_type": "code",
   "execution_count": 35,
   "metadata": {},
   "outputs": [
    {
     "ename": "IndexError",
     "evalue": "scatter_(): Expected dtype int64 for index.",
     "output_type": "error",
     "traceback": [
      "\u001b[0;31m---------------------------------------------------------------------------\u001b[0m",
      "\u001b[0;31mIndexError\u001b[0m                                Traceback (most recent call last)",
      "\u001b[0;32m<ipython-input-35-93a680fd2a7d>\u001b[0m in \u001b[0;36m<module>\u001b[0;34m\u001b[0m\n\u001b[0;32m----> 1\u001b[0;31m \u001b[0my_one_hot\u001b[0m\u001b[0;34m.\u001b[0m\u001b[0mscatter_\u001b[0m\u001b[0;34m(\u001b[0m\u001b[0;36m1\u001b[0m\u001b[0;34m,\u001b[0m \u001b[0my\u001b[0m\u001b[0;34m.\u001b[0m\u001b[0munsqueeze\u001b[0m\u001b[0;34m(\u001b[0m\u001b[0;36m1\u001b[0m\u001b[0;34m)\u001b[0m\u001b[0;34m,\u001b[0m \u001b[0;36m1\u001b[0m\u001b[0;34m)\u001b[0m\u001b[0;34m\u001b[0m\u001b[0;34m\u001b[0m\u001b[0m\n\u001b[0m",
      "\u001b[0;31mIndexError\u001b[0m: scatter_(): Expected dtype int64 for index."
     ]
    }
   ],
   "source": [
    "y_one_hot.scatter_(1, y.unsqueeze(1), 1)"
   ]
  },
  {
   "cell_type": "code",
   "execution_count": 36,
   "metadata": {},
   "outputs": [
    {
     "data": {
      "text/plain": [
       "torch.float32"
      ]
     },
     "execution_count": 36,
     "metadata": {},
     "output_type": "execute_result"
    }
   ],
   "source": [
    "y.dtype"
   ]
  },
  {
   "cell_type": "code",
   "execution_count": null,
   "metadata": {},
   "outputs": [],
   "source": []
  }
 ],
 "metadata": {
  "kernelspec": {
   "display_name": "Python 3",
   "language": "python",
   "name": "python3"
  },
  "language_info": {
   "codemirror_mode": {
    "name": "ipython",
    "version": 3
   },
   "file_extension": ".py",
   "mimetype": "text/x-python",
   "name": "python",
   "nbconvert_exporter": "python",
   "pygments_lexer": "ipython3",
   "version": "3.8.5"
  }
 },
 "nbformat": 4,
 "nbformat_minor": 4
}
