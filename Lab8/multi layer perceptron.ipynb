{
 "cells": [
  {
   "cell_type": "code",
   "execution_count": 1,
   "metadata": {},
   "outputs": [],
   "source": [
    "import time"
   ]
  },
  {
   "cell_type": "code",
   "execution_count": 2,
   "metadata": {},
   "outputs": [
    {
     "data": {
      "text/plain": [
       "'Thu Jul 15 10:04:44 2021'"
      ]
     },
     "execution_count": 2,
     "metadata": {},
     "output_type": "execute_result"
    }
   ],
   "source": [
    "time.strftime('%c', time.localtime(time.time()))"
   ]
  },
  {
   "cell_type": "code",
   "execution_count": 3,
   "metadata": {},
   "outputs": [],
   "source": [
    "#단일 레이어 퍼셉트론으로는 xor 해결 불가, 여러 레이어가 있어야 함"
   ]
  },
  {
   "cell_type": "code",
   "execution_count": 4,
   "metadata": {},
   "outputs": [],
   "source": [
    "#backpropagation : loss(cost)를 weight에 대해 미분함 "
   ]
  },
  {
   "cell_type": "code",
   "execution_count": 5,
   "metadata": {},
   "outputs": [
    {
     "ename": "NameError",
     "evalue": "name 'torch' is not defined",
     "output_type": "error",
     "traceback": [
      "\u001b[0;31m---------------------------------------------------------------------------\u001b[0m",
      "\u001b[0;31mNameError\u001b[0m                                 Traceback (most recent call last)",
      "\u001b[0;32m<ipython-input-5-a60fbfcc1bed>\u001b[0m in \u001b[0;36m<module>\u001b[0;34m\u001b[0m\n\u001b[0;32m----> 1\u001b[0;31m \u001b[0mx\u001b[0m \u001b[0;34m=\u001b[0m \u001b[0mtorch\u001b[0m\u001b[0;34m.\u001b[0m\u001b[0mFloatTensor\u001b[0m\u001b[0;34m(\u001b[0m\u001b[0;34m[\u001b[0m\u001b[0;34m[\u001b[0m\u001b[0;36m0\u001b[0m\u001b[0;34m,\u001b[0m \u001b[0;36m0\u001b[0m\u001b[0;34m]\u001b[0m\u001b[0;34m,\u001b[0m \u001b[0;34m[\u001b[0m\u001b[0;36m1\u001b[0m\u001b[0;34m,\u001b[0m \u001b[0;36m0\u001b[0m\u001b[0;34m]\u001b[0m\u001b[0;34m,\u001b[0m \u001b[0;34m[\u001b[0m\u001b[0;36m0\u001b[0m\u001b[0;34m,\u001b[0m \u001b[0;36m1\u001b[0m\u001b[0;34m]\u001b[0m\u001b[0;34m,\u001b[0m \u001b[0;34m[\u001b[0m\u001b[0;36m1\u001b[0m\u001b[0;34m,\u001b[0m \u001b[0;36m1\u001b[0m\u001b[0;34m]\u001b[0m\u001b[0;34m]\u001b[0m\u001b[0;34m)\u001b[0m\u001b[0;34m\u001b[0m\u001b[0;34m\u001b[0m\u001b[0m\n\u001b[0m",
      "\u001b[0;31mNameError\u001b[0m: name 'torch' is not defined"
     ]
    }
   ],
   "source": [
    "x = torch.FloatTensor([[0, 0], [1, 0], [0, 1], [1, 1]])"
   ]
  },
  {
   "cell_type": "code",
   "execution_count": 6,
   "metadata": {},
   "outputs": [],
   "source": [
    "import torch"
   ]
  },
  {
   "cell_type": "code",
   "execution_count": 7,
   "metadata": {},
   "outputs": [],
   "source": [
    "x = torch.FloatTensor([[0, 0], [1, 0], [0, 1], [1, 1]])"
   ]
  },
  {
   "cell_type": "code",
   "execution_count": 8,
   "metadata": {},
   "outputs": [],
   "source": [
    "y = torch.FloatTensor([[0],[1], [1], [0]])"
   ]
  },
  {
   "cell_type": "code",
   "execution_count": 9,
   "metadata": {},
   "outputs": [],
   "source": [
    "#nn layers"
   ]
  },
  {
   "cell_type": "code",
   "execution_count": 10,
   "metadata": {},
   "outputs": [],
   "source": [
    "w1 = torch.Tensor(2, 2)"
   ]
  },
  {
   "cell_type": "code",
   "execution_count": 11,
   "metadata": {},
   "outputs": [],
   "source": [
    "b1 = torch.Tensor(2)"
   ]
  },
  {
   "cell_type": "code",
   "execution_count": 12,
   "metadata": {},
   "outputs": [],
   "source": [
    "w2 = torch.Tensor(2, 1)"
   ]
  },
  {
   "cell_type": "code",
   "execution_count": 13,
   "metadata": {},
   "outputs": [],
   "source": [
    "b2 = torch.Tensor(1)"
   ]
  },
  {
   "cell_type": "code",
   "execution_count": 14,
   "metadata": {},
   "outputs": [],
   "source": [
    "def sigmoid(x):\n",
    "    return 1.0/(1.0 + torch.exp(-x))"
   ]
  },
  {
   "cell_type": "code",
   "execution_count": 15,
   "metadata": {},
   "outputs": [],
   "source": [
    "def sigmoid_prime(x):\n",
    "    return sigmoid(x)*(1 - sigmoid(x))"
   ]
  },
  {
   "cell_type": "code",
   "execution_count": 16,
   "metadata": {},
   "outputs": [],
   "source": [
    "#sigmoid 미분한 거임"
   ]
  },
  {
   "cell_type": "code",
   "execution_count": 17,
   "metadata": {},
   "outputs": [
    {
     "name": "stdout",
     "output_type": "stream",
     "text": [
      "0 0.6931471824645996\n",
      "100 0.6931471824645996\n",
      "200 0.6931471824645996\n",
      "300 0.6931471824645996\n",
      "400 0.6931471824645996\n",
      "500 0.6931471824645996\n",
      "600 0.6931471824645996\n",
      "700 0.6931471824645996\n",
      "800 0.6931471824645996\n",
      "900 0.6931471824645996\n",
      "1000 0.6931471824645996\n",
      "1100 0.6931471824645996\n",
      "1200 0.6931471824645996\n",
      "1300 0.6931471824645996\n",
      "1400 0.6931471824645996\n",
      "1500 0.6931471824645996\n",
      "1600 0.6931471824645996\n",
      "1700 0.6931471824645996\n",
      "1800 0.6931471824645996\n",
      "1900 0.6931471824645996\n",
      "2000 0.6931471824645996\n",
      "2100 0.6931471824645996\n",
      "2200 0.6931471824645996\n",
      "2300 0.6931471824645996\n",
      "2400 0.6931471824645996\n",
      "2500 0.6931471824645996\n",
      "2600 0.6931471824645996\n",
      "2700 0.6931471824645996\n",
      "2800 0.6931471824645996\n",
      "2900 0.6931471824645996\n",
      "3000 0.6931471824645996\n",
      "3100 0.6931471824645996\n",
      "3200 0.6931471824645996\n",
      "3300 0.6931471824645996\n",
      "3400 0.6931471824645996\n",
      "3500 0.6931471824645996\n",
      "3600 0.6931471824645996\n",
      "3700 0.6931471824645996\n",
      "3800 0.6931471824645996\n",
      "3900 0.6931471824645996\n",
      "4000 0.6931471824645996\n",
      "4100 0.6931471824645996\n",
      "4200 0.6931471824645996\n",
      "4300 0.6931471824645996\n",
      "4400 0.6931471824645996\n",
      "4500 0.6931471824645996\n",
      "4600 0.6931471824645996\n",
      "4700 0.6931471824645996\n",
      "4800 0.6931471824645996\n",
      "4900 0.6931471824645996\n",
      "5000 0.6931471824645996\n",
      "5100 0.6931471824645996\n",
      "5200 0.6931471824645996\n",
      "5300 0.6931471824645996\n",
      "5400 0.6931471824645996\n",
      "5500 0.6931471824645996\n",
      "5600 0.6931471824645996\n",
      "5700 0.6931471824645996\n",
      "5800 0.6931471824645996\n",
      "5900 0.6931471824645996\n",
      "6000 0.6931471824645996\n",
      "6100 0.6931471824645996\n",
      "6200 0.6931471824645996\n",
      "6300 0.6931471824645996\n",
      "6400 0.6931471824645996\n",
      "6500 0.6931471824645996\n",
      "6600 0.6931471824645996\n",
      "6700 0.6931471824645996\n",
      "6800 0.6931471824645996\n",
      "6900 0.6931471824645996\n",
      "7000 0.6931471824645996\n",
      "7100 0.6931471824645996\n",
      "7200 0.6931471824645996\n",
      "7300 0.6931471824645996\n",
      "7400 0.6931471824645996\n",
      "7500 0.6931471824645996\n",
      "7600 0.6931471824645996\n",
      "7700 0.6931471824645996\n",
      "7800 0.6931471824645996\n",
      "7900 0.6931471824645996\n",
      "8000 0.6931471824645996\n",
      "8100 0.6931471824645996\n",
      "8200 0.6931471824645996\n",
      "8300 0.6931471824645996\n",
      "8400 0.6931471824645996\n",
      "8500 0.6931471824645996\n",
      "8600 0.6931471824645996\n",
      "8700 0.6931471824645996\n",
      "8800 0.6931471824645996\n",
      "8900 0.6931471824645996\n",
      "9000 0.6931471824645996\n",
      "9100 0.6931471824645996\n",
      "9200 0.6931471824645996\n",
      "9300 0.6931471824645996\n",
      "9400 0.6931471824645996\n",
      "9500 0.6931471824645996\n",
      "9600 0.6931471824645996\n",
      "9700 0.6931471824645996\n",
      "9800 0.6931471824645996\n",
      "9900 0.6931471824645996\n",
      "10000 0.6931471824645996\n"
     ]
    }
   ],
   "source": [
    "for step in range(10001):\n",
    "    l1 = torch.add(torch.matmul(x, w1), b1)\n",
    "    a1 = sigmoid(l1)\n",
    "    l2 = torch.add(torch.matmul(a1, w2), b2)\n",
    "    y_pred = sigmoid(l2)\n",
    "    \n",
    "    cost = -torch.mean(y * torch.log(y_pred) + (1 - y) * torch.log(1 - y_pred))\n",
    "    \n",
    "    #back propagation\n",
    "    d_y_pred = (y_pred - y)/(y_pred * (1.0 - y_pred) + 1e-7)\n",
    "    \n",
    "    d_l2 = d_y_pred * sigmoid_prime(l2)\n",
    "    d_b2 = d_l2\n",
    "    d_w2 = torch.matmul(torch.transpose(a1, 0, 1), d_b2)\n",
    "    \n",
    "    d_a1 = torch.matmul(d_b2, torch.transpose(w2, 0, 1))\n",
    "    d_l1 = d_a1 * sigmoid_prime(l1)\n",
    "    d_b1 = d_l1\n",
    "    d_w1 = torch.matmul(torch.transpose(x, 0, 1), d_b1)\n",
    "    \n",
    "    #weight_update\n",
    "    lr= 0.1\n",
    "    w1 -= d_w1 * lr\n",
    "    b1 -= torch.mean(d_b1, 0) * lr\n",
    "    w2 -= d_w2 * lr\n",
    "    b2 -= torch.mean(d_b2, 0) * lr\n",
    "    \n",
    "    if step%100 == 0:\n",
    "        print(step, cost.item())"
   ]
  },
  {
   "cell_type": "code",
   "execution_count": 18,
   "metadata": {},
   "outputs": [
    {
     "data": {
      "text/plain": [
       "tensor([[0., 0.],\n",
       "        [1., 0.],\n",
       "        [0., 1.],\n",
       "        [1., 1.]])"
      ]
     },
     "execution_count": 18,
     "metadata": {},
     "output_type": "execute_result"
    }
   ],
   "source": [
    "x"
   ]
  },
  {
   "cell_type": "code",
   "execution_count": 19,
   "metadata": {},
   "outputs": [
    {
     "data": {
      "text/plain": [
       "tensor([[0.],\n",
       "        [1.],\n",
       "        [1.],\n",
       "        [0.]])"
      ]
     },
     "execution_count": 19,
     "metadata": {},
     "output_type": "execute_result"
    }
   ],
   "source": [
    "y"
   ]
  },
  {
   "cell_type": "code",
   "execution_count": 20,
   "metadata": {},
   "outputs": [
    {
     "ename": "AttributeError",
     "evalue": "module 'torch.nn' has no attribute 'linear'",
     "output_type": "error",
     "traceback": [
      "\u001b[0;31m---------------------------------------------------------------------------\u001b[0m",
      "\u001b[0;31mAttributeError\u001b[0m                            Traceback (most recent call last)",
      "\u001b[0;32m<ipython-input-20-504ab22538ca>\u001b[0m in \u001b[0;36m<module>\u001b[0;34m\u001b[0m\n\u001b[0;32m----> 1\u001b[0;31m \u001b[0mlinear1\u001b[0m \u001b[0;34m=\u001b[0m \u001b[0mtorch\u001b[0m\u001b[0;34m.\u001b[0m\u001b[0mnn\u001b[0m\u001b[0;34m.\u001b[0m\u001b[0mlinear\u001b[0m\u001b[0;34m(\u001b[0m\u001b[0;36m2\u001b[0m\u001b[0;34m,\u001b[0m \u001b[0;36m2\u001b[0m\u001b[0;34m,\u001b[0m \u001b[0mbias\u001b[0m \u001b[0;34m=\u001b[0m \u001b[0;32mTrue\u001b[0m\u001b[0;34m)\u001b[0m\u001b[0;34m\u001b[0m\u001b[0;34m\u001b[0m\u001b[0m\n\u001b[0m",
      "\u001b[0;31mAttributeError\u001b[0m: module 'torch.nn' has no attribute 'linear'"
     ]
    }
   ],
   "source": [
    "linear1 = torch.nn.linear(2, 2, bias = True)"
   ]
  },
  {
   "cell_type": "code",
   "execution_count": 21,
   "metadata": {},
   "outputs": [],
   "source": [
    "linear1 = torch.nn.Linear(2, 2, bias = True)"
   ]
  },
  {
   "cell_type": "code",
   "execution_count": 22,
   "metadata": {},
   "outputs": [],
   "source": [
    "linear2 = torch.nn.Linear(2, 1, bias = True)"
   ]
  },
  {
   "cell_type": "code",
   "execution_count": 23,
   "metadata": {},
   "outputs": [],
   "source": [
    "sigmoid = torch.nn.Sigmoid()"
   ]
  },
  {
   "cell_type": "code",
   "execution_count": 24,
   "metadata": {},
   "outputs": [],
   "source": [
    "model = torch.nn.Sequential(linear1, sigmoid, linear2, sigmoid)"
   ]
  },
  {
   "cell_type": "code",
   "execution_count": 25,
   "metadata": {},
   "outputs": [],
   "source": [
    "criteration = torch.nn.BCELoss()"
   ]
  },
  {
   "cell_type": "code",
   "execution_count": 26,
   "metadata": {},
   "outputs": [],
   "source": [
    "optimizer = torch.optim.SGD(model.parameters(), lr = 1)"
   ]
  },
  {
   "cell_type": "code",
   "execution_count": 27,
   "metadata": {},
   "outputs": [
    {
     "name": "stdout",
     "output_type": "stream",
     "text": [
      "0 <built-in method item of Tensor object at 0x7f91e9a1e640>\n",
      "100 <built-in method item of Tensor object at 0x7f91e9a1e680>\n",
      "200 <built-in method item of Tensor object at 0x7f91e9a1e6c0>\n",
      "300 <built-in method item of Tensor object at 0x7f91e9a1e700>\n",
      "400 <built-in method item of Tensor object at 0x7f91e9a1e7c0>\n",
      "500 <built-in method item of Tensor object at 0x7f91e9a14dc0>\n",
      "600 <built-in method item of Tensor object at 0x7f91e8855d40>\n",
      "700 <built-in method item of Tensor object at 0x7f91e9a1e680>\n",
      "800 <built-in method item of Tensor object at 0x7f91e9a1e880>\n",
      "900 <built-in method item of Tensor object at 0x7f91e9a1e700>\n",
      "1000 <built-in method item of Tensor object at 0x7f91e9a1e6c0>\n",
      "1100 <built-in method item of Tensor object at 0x7f91e9a1ea80>\n",
      "1200 <built-in method item of Tensor object at 0x7f91e9a17ec0>\n",
      "1300 <built-in method item of Tensor object at 0x7f91e9a14c00>\n",
      "1400 <built-in method item of Tensor object at 0x7f91e9a1ea00>\n",
      "1500 <built-in method item of Tensor object at 0x7f91e9a1e9c0>\n",
      "1600 <built-in method item of Tensor object at 0x7f91e9a1e680>\n",
      "1700 <built-in method item of Tensor object at 0x7f91e9a1e880>\n",
      "1800 <built-in method item of Tensor object at 0x7f91e9a1e7c0>\n",
      "1900 <built-in method item of Tensor object at 0x7f91e9a17ec0>\n",
      "2000 <built-in method item of Tensor object at 0x7f91e9a14dc0>\n",
      "2100 <built-in method item of Tensor object at 0x7f91e9a1e6c0>\n",
      "2200 <built-in method item of Tensor object at 0x7f91e9a1e900>\n",
      "2300 <built-in method item of Tensor object at 0x7f91e9a1e7c0>\n",
      "2400 <built-in method item of Tensor object at 0x7f91e9a1e9c0>\n",
      "2500 <built-in method item of Tensor object at 0x7f91e8855d40>\n",
      "2600 <built-in method item of Tensor object at 0x7f91e9a14dc0>\n",
      "2700 <built-in method item of Tensor object at 0x7f91e9a1e680>\n",
      "2800 <built-in method item of Tensor object at 0x7f91e9a1e9c0>\n",
      "2900 <built-in method item of Tensor object at 0x7f91e9a1e6c0>\n",
      "3000 <built-in method item of Tensor object at 0x7f91e9a1ea00>\n",
      "3100 <built-in method item of Tensor object at 0x7f91e9a1eb00>\n",
      "3200 <built-in method item of Tensor object at 0x7f91e9a1ea80>\n",
      "3300 <built-in method item of Tensor object at 0x7f91e9a17ec0>\n",
      "3400 <built-in method item of Tensor object at 0x7f91e9a1eb40>\n",
      "3500 <built-in method item of Tensor object at 0x7f91e9a1e8c0>\n",
      "3600 <built-in method item of Tensor object at 0x7f91e9a1eb00>\n",
      "3700 <built-in method item of Tensor object at 0x7f91e9a1e680>\n",
      "3800 <built-in method item of Tensor object at 0x7f91e9a14c00>\n",
      "3900 <built-in method item of Tensor object at 0x7f91e9a1eb80>\n",
      "4000 <built-in method item of Tensor object at 0x7f91e9a1eb40>\n",
      "4100 <built-in method item of Tensor object at 0x7f91e9a1ea80>\n",
      "4200 <built-in method item of Tensor object at 0x7f91e9a1eb00>\n",
      "4300 <built-in method item of Tensor object at 0x7f91e9a1e8c0>\n",
      "4400 <built-in method item of Tensor object at 0x7f91e9a17ec0>\n",
      "4500 <built-in method item of Tensor object at 0x7f91e9a1e9c0>\n",
      "4600 <built-in method item of Tensor object at 0x7f91e9a1eb80>\n",
      "4700 <built-in method item of Tensor object at 0x7f91e9a1eb40>\n",
      "4800 <built-in method item of Tensor object at 0x7f91e9a1ea80>\n",
      "4900 <built-in method item of Tensor object at 0x7f91e9a1e680>\n",
      "5000 <built-in method item of Tensor object at 0x7f91e8855d40>\n",
      "5100 <built-in method item of Tensor object at 0x7f91e9a1ea00>\n",
      "5200 <built-in method item of Tensor object at 0x7f91e9a1e680>\n",
      "5300 <built-in method item of Tensor object at 0x7f91e9a1e9c0>\n",
      "5400 <built-in method item of Tensor object at 0x7f91e9a1eb80>\n",
      "5500 <built-in method item of Tensor object at 0x7f91e9a1eb40>\n",
      "5600 <built-in method item of Tensor object at 0x7f91e9a1e8c0>\n",
      "5700 <built-in method item of Tensor object at 0x7f91e9a1ea80>\n",
      "5800 <built-in method item of Tensor object at 0x7f91e9a14dc0>\n",
      "5900 <built-in method item of Tensor object at 0x7f91e9a1ec80>\n",
      "6000 <built-in method item of Tensor object at 0x7f91e9a1eb00>\n",
      "6100 <built-in method item of Tensor object at 0x7f91e9a1ea00>\n",
      "6200 <built-in method item of Tensor object at 0x7f91e9a1e9c0>\n",
      "6300 <built-in method item of Tensor object at 0x7f91e9a1e680>\n",
      "6400 <built-in method item of Tensor object at 0x7f91e9a1eb80>\n",
      "6500 <built-in method item of Tensor object at 0x7f91e9a14dc0>\n",
      "6600 <built-in method item of Tensor object at 0x7f91e9a1ec40>\n",
      "6700 <built-in method item of Tensor object at 0x7f91e9a1ec80>\n",
      "6800 <built-in method item of Tensor object at 0x7f91e9a1ea80>\n",
      "6900 <built-in method item of Tensor object at 0x7f91e9a1ea00>\n",
      "7000 <built-in method item of Tensor object at 0x7f91e9a1eb00>\n",
      "7100 <built-in method item of Tensor object at 0x7f91e9a1e9c0>\n",
      "7200 <built-in method item of Tensor object at 0x7f91e8855d40>\n",
      "7300 <built-in method item of Tensor object at 0x7f91e9a1eb80>\n",
      "7400 <built-in method item of Tensor object at 0x7f91e9a1e8c0>\n",
      "7500 <built-in method item of Tensor object at 0x7f91e9a1e680>\n",
      "7600 <built-in method item of Tensor object at 0x7f91e9a1ec40>\n",
      "7700 <built-in method item of Tensor object at 0x7f91e9a1ec00>\n",
      "7800 <built-in method item of Tensor object at 0x7f91e9a1ec80>\n",
      "7900 <built-in method item of Tensor object at 0x7f91e9a1ea00>\n",
      "8000 <built-in method item of Tensor object at 0x7f91e9a1e9c0>\n",
      "8100 <built-in method item of Tensor object at 0x7f91e9a1eb40>\n",
      "8200 <built-in method item of Tensor object at 0x7f91e9a1eb80>\n",
      "8300 <built-in method item of Tensor object at 0x7f91e9a1e680>\n",
      "8400 <built-in method item of Tensor object at 0x7f91e9a1e8c0>\n",
      "8500 <built-in method item of Tensor object at 0x7f91e9a1ec40>\n",
      "8600 <built-in method item of Tensor object at 0x7f91e9a1ebc0>\n",
      "8700 <built-in method item of Tensor object at 0x7f91e9a1ea00>\n",
      "8800 <built-in method item of Tensor object at 0x7f91e9a1ea80>\n",
      "8900 <built-in method item of Tensor object at 0x7f91e9a1e9c0>\n",
      "9000 <built-in method item of Tensor object at 0x7f91e8855d40>\n",
      "9100 <built-in method item of Tensor object at 0x7f91e9a1ec80>\n",
      "9200 <built-in method item of Tensor object at 0x7f91e9a1ecc0>\n",
      "9300 <built-in method item of Tensor object at 0x7f91e9a14dc0>\n",
      "9400 <built-in method item of Tensor object at 0x7f91e9a1ea80>\n",
      "9500 <built-in method item of Tensor object at 0x7f91e9a1ec40>\n",
      "9600 <built-in method item of Tensor object at 0x7f91e9a1ebc0>\n",
      "9700 <built-in method item of Tensor object at 0x7f91e9a1ea00>\n",
      "9800 <built-in method item of Tensor object at 0x7f91e9a1ec00>\n",
      "9900 <built-in method item of Tensor object at 0x7f91e9a1eb40>\n",
      "10000 <built-in method item of Tensor object at 0x7f91e9a1e9c0>\n"
     ]
    }
   ],
   "source": [
    "for step in range(10001):\n",
    "    optimizer.zero_grad()\n",
    "    hypothesis = model(x)\n",
    "    \n",
    "    cost = criteration(hypothesis, y)\n",
    "    cost.backward()\n",
    "    optimizer.step()\n",
    "    if step % 100 == 0:\n",
    "        print(step, cost.item)"
   ]
  },
  {
   "cell_type": "code",
   "execution_count": 28,
   "metadata": {},
   "outputs": [
    {
     "data": {
      "text/plain": [
       "0.0010024596704170108"
      ]
     },
     "execution_count": 28,
     "metadata": {},
     "output_type": "execute_result"
    }
   ],
   "source": [
    "cost.item()"
   ]
  },
  {
   "cell_type": "code",
   "execution_count": 29,
   "metadata": {},
   "outputs": [
    {
     "data": {
      "text/plain": [
       "tensor([[9.5793e-04],\n",
       "        [9.9868e-01],\n",
       "        [9.9911e-01],\n",
       "        [8.3390e-04]], grad_fn=<SigmoidBackward>)"
      ]
     },
     "execution_count": 29,
     "metadata": {},
     "output_type": "execute_result"
    }
   ],
   "source": [
    "model(x)"
   ]
  },
  {
   "cell_type": "code",
   "execution_count": null,
   "metadata": {},
   "outputs": [],
   "source": []
  }
 ],
 "metadata": {
  "kernelspec": {
   "display_name": "Python 3",
   "language": "python",
   "name": "python3"
  },
  "language_info": {
   "codemirror_mode": {
    "name": "ipython",
    "version": 3
   },
   "file_extension": ".py",
   "mimetype": "text/x-python",
   "name": "python",
   "nbconvert_exporter": "python",
   "pygments_lexer": "ipython3",
   "version": "3.8.5"
  }
 },
 "nbformat": 4,
 "nbformat_minor": 4
}
